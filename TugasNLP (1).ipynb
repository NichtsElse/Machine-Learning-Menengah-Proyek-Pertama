{
  "cells": [
    {
      "cell_type": "markdown",
      "metadata": {
        "id": "jZSDSMyeAFr0"
      },
      "source": [
        "**Import Library**"
      ]
    },
    {
      "cell_type": "code",
      "execution_count": 3,
      "metadata": {
        "colab": {
          "base_uri": "https://localhost:8080/"
        },
        "id": "N-gVREDij2jV",
        "outputId": "6694cb74-0820-483a-c2ef-745b452f5023"
      },
      "outputs": [
        {
          "name": "stderr",
          "output_type": "stream",
          "text": [
            "[nltk_data] Downloading package punkt_tab to\n",
            "[nltk_data]     C:\\Users\\rizki\\AppData\\Roaming\\nltk_data...\n",
            "[nltk_data]   Package punkt_tab is already up-to-date!\n",
            "[nltk_data] Downloading package stopwords to\n",
            "[nltk_data]     C:\\Users\\rizki\\AppData\\Roaming\\nltk_data...\n",
            "[nltk_data]   Package stopwords is already up-to-date!\n"
          ]
        },
        {
          "data": {
            "text/plain": [
              "True"
            ]
          },
          "execution_count": 3,
          "metadata": {},
          "output_type": "execute_result"
        }
      ],
      "source": [
        "import pandas as pd\n",
        "import numpy as np\n",
        "import nltk\n",
        "import re\n",
        "import string\n",
        "from sklearn.preprocessing import LabelEncoder\n",
        "from sklearn.model_selection import train_test_split\n",
        "from sklearn.feature_extraction.text import TfidfVectorizer\n",
        "from sklearn.svm import SVC\n",
        "from sklearn.ensemble import RandomForestClassifier\n",
        "from sklearn.metrics import accuracy_score, classification_report\n",
        "import tensorflow as tf\n",
        "from nltk.sentiment import SentimentIntensityAnalyzer\n",
        "from nltk.tokenize import word_tokenize\n",
        "from nltk.corpus import stopwords\n",
        "from Sastrawi.Stemmer.StemmerFactory import StemmerFactory\n",
        "from Sastrawi.StopWordRemover.StopWordRemoverFactory import StopWordRemoverFactory\n",
        "\n",
        "\n",
        "nltk.download('punkt_tab')\n",
        "nltk.download('stopwords')"
      ]
    },
    {
      "cell_type": "markdown",
      "metadata": {
        "id": "UbSmrnDCAPc0"
      },
      "source": [
        "## Preprocessing"
      ]
    },
    {
      "cell_type": "code",
      "execution_count": 4,
      "metadata": {
        "colab": {
          "base_uri": "https://localhost:8080/",
          "height": 573
        },
        "id": "NSaWHCL_fmLk",
        "outputId": "7b63464e-5a35-4232-e2b1-082256705da6"
      },
      "outputs": [
        {
          "data": {
            "text/html": [
              "<div>\n",
              "<style scoped>\n",
              "    .dataframe tbody tr th:only-of-type {\n",
              "        vertical-align: middle;\n",
              "    }\n",
              "\n",
              "    .dataframe tbody tr th {\n",
              "        vertical-align: top;\n",
              "    }\n",
              "\n",
              "    .dataframe thead th {\n",
              "        text-align: right;\n",
              "    }\n",
              "</style>\n",
              "<table border=\"1\" class=\"dataframe\">\n",
              "  <thead>\n",
              "    <tr style=\"text-align: right;\">\n",
              "      <th></th>\n",
              "      <th>reviewId</th>\n",
              "      <th>userName</th>\n",
              "      <th>userImage</th>\n",
              "      <th>content</th>\n",
              "      <th>score</th>\n",
              "      <th>thumbsUpCount</th>\n",
              "      <th>reviewCreatedVersion</th>\n",
              "      <th>at</th>\n",
              "      <th>replyContent</th>\n",
              "      <th>repliedAt</th>\n",
              "      <th>appVersion</th>\n",
              "    </tr>\n",
              "  </thead>\n",
              "  <tbody>\n",
              "    <tr>\n",
              "      <th>0</th>\n",
              "      <td>01b6a990-f9cb-4288-9cd5-8f8b6ea6982b</td>\n",
              "      <td>Pengguna Google</td>\n",
              "      <td>https://play-lh.googleusercontent.com/EGemoI2N...</td>\n",
              "      <td>Sangat lama banget ya dalam pengecekan nya, ti...</td>\n",
              "      <td>5</td>\n",
              "      <td>148</td>\n",
              "      <td>3.28.1</td>\n",
              "      <td>2025-02-19 12:10:40</td>\n",
              "      <td>NaN</td>\n",
              "      <td>NaN</td>\n",
              "      <td>3.28.1</td>\n",
              "    </tr>\n",
              "    <tr>\n",
              "      <th>1</th>\n",
              "      <td>4bf2ac74-de45-4334-bd7f-e0ffc8f9f248</td>\n",
              "      <td>Pengguna Google</td>\n",
              "      <td>https://play-lh.googleusercontent.com/EGemoI2N...</td>\n",
              "      <td>Kok sekarang lewat BCA sih,, otomatis semua tr...</td>\n",
              "      <td>3</td>\n",
              "      <td>3</td>\n",
              "      <td>3.29.0</td>\n",
              "      <td>2025-02-28 23:01:54</td>\n",
              "      <td>Halo, Kak Rudi Harianto\\n\\nMohon maaf atas ket...</td>\n",
              "      <td>2025-03-03 08:22:43</td>\n",
              "      <td>3.29.0</td>\n",
              "    </tr>\n",
              "    <tr>\n",
              "      <th>2</th>\n",
              "      <td>371e0ba3-5c65-42c7-ab3c-147e0fe1f012</td>\n",
              "      <td>Pengguna Google</td>\n",
              "      <td>https://play-lh.googleusercontent.com/EGemoI2N...</td>\n",
              "      <td>Sangat kecewa. Dari jam 11 kemaren siang trans...</td>\n",
              "      <td>1</td>\n",
              "      <td>0</td>\n",
              "      <td>3.29.0</td>\n",
              "      <td>2025-03-04 12:26:00</td>\n",
              "      <td>Halo, Kak Cikal Damar\\n\\nMohon maaf atas ketid...</td>\n",
              "      <td>2025-03-06 08:25:09</td>\n",
              "      <td>3.29.0</td>\n",
              "    </tr>\n",
              "    <tr>\n",
              "      <th>3</th>\n",
              "      <td>d75399ca-d3ca-4943-b5ea-6f4a284296e9</td>\n",
              "      <td>Pengguna Google</td>\n",
              "      <td>https://play-lh.googleusercontent.com/EGemoI2N...</td>\n",
              "      <td>Tidak menyarankan membayar kartu kredit memaka...</td>\n",
              "      <td>5</td>\n",
              "      <td>1</td>\n",
              "      <td>3.29.0</td>\n",
              "      <td>2025-03-04 00:09:27</td>\n",
              "      <td>NaN</td>\n",
              "      <td>NaN</td>\n",
              "      <td>3.29.0</td>\n",
              "    </tr>\n",
              "    <tr>\n",
              "      <th>4</th>\n",
              "      <td>75ec2f91-ec42-415c-a867-de1e16a84f39</td>\n",
              "      <td>Pengguna Google</td>\n",
              "      <td>https://play-lh.googleusercontent.com/EGemoI2N...</td>\n",
              "      <td>Kenapa top up google play ribet sekali sekaran...</td>\n",
              "      <td>4</td>\n",
              "      <td>1</td>\n",
              "      <td>3.29.0</td>\n",
              "      <td>2025-03-02 14:02:46</td>\n",
              "      <td>NaN</td>\n",
              "      <td>NaN</td>\n",
              "      <td>3.29.0</td>\n",
              "    </tr>\n",
              "  </tbody>\n",
              "</table>\n",
              "</div>"
            ],
            "text/plain": [
              "                               reviewId         userName  \\\n",
              "0  01b6a990-f9cb-4288-9cd5-8f8b6ea6982b  Pengguna Google   \n",
              "1  4bf2ac74-de45-4334-bd7f-e0ffc8f9f248  Pengguna Google   \n",
              "2  371e0ba3-5c65-42c7-ab3c-147e0fe1f012  Pengguna Google   \n",
              "3  d75399ca-d3ca-4943-b5ea-6f4a284296e9  Pengguna Google   \n",
              "4  75ec2f91-ec42-415c-a867-de1e16a84f39  Pengguna Google   \n",
              "\n",
              "                                           userImage  \\\n",
              "0  https://play-lh.googleusercontent.com/EGemoI2N...   \n",
              "1  https://play-lh.googleusercontent.com/EGemoI2N...   \n",
              "2  https://play-lh.googleusercontent.com/EGemoI2N...   \n",
              "3  https://play-lh.googleusercontent.com/EGemoI2N...   \n",
              "4  https://play-lh.googleusercontent.com/EGemoI2N...   \n",
              "\n",
              "                                             content  score  thumbsUpCount  \\\n",
              "0  Sangat lama banget ya dalam pengecekan nya, ti...      5            148   \n",
              "1  Kok sekarang lewat BCA sih,, otomatis semua tr...      3              3   \n",
              "2  Sangat kecewa. Dari jam 11 kemaren siang trans...      1              0   \n",
              "3  Tidak menyarankan membayar kartu kredit memaka...      5              1   \n",
              "4  Kenapa top up google play ribet sekali sekaran...      4              1   \n",
              "\n",
              "  reviewCreatedVersion                   at  \\\n",
              "0               3.28.1  2025-02-19 12:10:40   \n",
              "1               3.29.0  2025-02-28 23:01:54   \n",
              "2               3.29.0  2025-03-04 12:26:00   \n",
              "3               3.29.0  2025-03-04 00:09:27   \n",
              "4               3.29.0  2025-03-02 14:02:46   \n",
              "\n",
              "                                        replyContent            repliedAt  \\\n",
              "0                                                NaN                  NaN   \n",
              "1  Halo, Kak Rudi Harianto\\n\\nMohon maaf atas ket...  2025-03-03 08:22:43   \n",
              "2  Halo, Kak Cikal Damar\\n\\nMohon maaf atas ketid...  2025-03-06 08:25:09   \n",
              "3                                                NaN                  NaN   \n",
              "4                                                NaN                  NaN   \n",
              "\n",
              "  appVersion  \n",
              "0     3.28.1  \n",
              "1     3.29.0  \n",
              "2     3.29.0  \n",
              "3     3.29.0  \n",
              "4     3.29.0  "
            ]
          },
          "execution_count": 4,
          "metadata": {},
          "output_type": "execute_result"
        }
      ],
      "source": [
        "reviews_df = pd.read_csv('ulasan_flip.csv')\n",
        "reviews_df.shape\n",
        "reviews_df.head()"
      ]
    },
    {
      "cell_type": "code",
      "execution_count": 5,
      "metadata": {
        "colab": {
          "base_uri": "https://localhost:8080/"
        },
        "id": "NBaa2PEyRGsX",
        "outputId": "2624a336-ba7a-4f60-9453-6addc533bdcb"
      },
      "outputs": [
        {
          "name": "stdout",
          "output_type": "stream",
          "text": [
            "<class 'pandas.core.frame.DataFrame'>\n",
            "RangeIndex: 121500 entries, 0 to 121499\n",
            "Data columns (total 11 columns):\n",
            " #   Column                Non-Null Count   Dtype \n",
            "---  ------                --------------   ----- \n",
            " 0   reviewId              121500 non-null  object\n",
            " 1   userName              121500 non-null  object\n",
            " 2   userImage             121500 non-null  object\n",
            " 3   content               121500 non-null  object\n",
            " 4   score                 121500 non-null  int64 \n",
            " 5   thumbsUpCount         121500 non-null  int64 \n",
            " 6   reviewCreatedVersion  109042 non-null  object\n",
            " 7   at                    121500 non-null  object\n",
            " 8   replyContent          18684 non-null   object\n",
            " 9   repliedAt             18684 non-null   object\n",
            " 10  appVersion            109042 non-null  object\n",
            "dtypes: int64(2), object(9)\n",
            "memory usage: 10.2+ MB\n"
          ]
        }
      ],
      "source": [
        "reviews_df.info()"
      ]
    },
    {
      "cell_type": "code",
      "execution_count": 6,
      "metadata": {
        "id": "cDLC8ho0UjN3"
      },
      "outputs": [],
      "source": [
        "reviews_df.drop(['reviewId','appVersion','repliedAt','replyContent','userImage','reviewCreatedVersion','userName','thumbsUpCount','at'], axis=1, inplace=True)"
      ]
    },
    {
      "cell_type": "code",
      "execution_count": 7,
      "metadata": {
        "id": "K1O6pOHwZ2gR"
      },
      "outputs": [],
      "source": [
        "clean_df = reviews_df.dropna()"
      ]
    },
    {
      "cell_type": "code",
      "execution_count": 8,
      "metadata": {
        "colab": {
          "base_uri": "https://localhost:8080/"
        },
        "id": "xQydMYNNgzWX",
        "outputId": "07336662-e5d6-4d14-a6f9-d758f457232a"
      },
      "outputs": [
        {
          "name": "stdout",
          "output_type": "stream",
          "text": [
            "<class 'pandas.core.frame.DataFrame'>\n",
            "RangeIndex: 121500 entries, 0 to 121499\n",
            "Data columns (total 2 columns):\n",
            " #   Column   Non-Null Count   Dtype \n",
            "---  ------   --------------   ----- \n",
            " 0   content  121500 non-null  object\n",
            " 1   score    121500 non-null  int64 \n",
            "dtypes: int64(1), object(1)\n",
            "memory usage: 1.9+ MB\n"
          ]
        }
      ],
      "source": [
        "clean_df.info()"
      ]
    },
    {
      "cell_type": "code",
      "execution_count": 9,
      "metadata": {
        "id": "Dlz8X3I6g3uU"
      },
      "outputs": [],
      "source": [
        "def cleaningText(text):\n",
        "    text = re.sub(r'@[A-Za-z0-9]+', '', text)\n",
        "    text = re.sub(r'#[A-Za-z0-9]+', '', text)\n",
        "    text = re.sub(r\"http\\S+\", '', text)\n",
        "    text = re.sub(r'RT[\\s]', '', text)\n",
        "    text = re.sub(r'[0-9]+', '', text)\n",
        "    text = re.sub(r'[^\\w\\s]', '', text)\n",
        "    text = re.sub(r'\\s+', ' ', text)\n",
        "    text = re.sub(r\"\\s+[a-zA-Z]\\s+\", ' ', text)\n",
        "    text = re.sub(r'[^a-zA-Z]', ' ', text)\n",
        "\n",
        "    text = text.replace('\\n', ' ')\n",
        "    text = text.translate(str.maketrans('', '', string.punctuation))\n",
        "    text = text.strip(' ')\n",
        "    return text\n",
        "\n",
        "def casefoldingText(text):\n",
        "    text = text.lower()\n",
        "    return text\n",
        "\n",
        "def tokenizingText(text):\n",
        "    text = word_tokenize(text)\n",
        "    return text\n",
        "\n",
        "def filteringText(text):\n",
        "    listStopwords = set(stopwords.words('indonesian'))\n",
        "    listStopwords1 = set(stopwords.words('english'))\n",
        "    listStopwords.update(listStopwords1)\n",
        "    listStopwords.update(['iya','yaa','gak','nya','na','sih','ku',\"di\",\"ga\",\"ya\",\"gaa\",\"loh\",\"kah\",\"woi\",\"woii\",\"woy\"])\n",
        "    filtered = []\n",
        "    for txt in text:\n",
        "        if txt not in listStopwords:\n",
        "            filtered.append(txt)\n",
        "    text = filtered\n",
        "    return text\n",
        "\n",
        "def stemmingText(text):\n",
        "    factory = StemmerFactory()\n",
        "    stemmer = factory.create_stemmer()\n",
        "    words = text.split()\n",
        "    stemmed_words = [stemmer.stem(word) for word in words]\n",
        "    stemmed_text = ' '.join(stemmed_words)\n",
        "\n",
        "    return stemmed_text\n",
        "\n",
        "def toSentence(list_words):\n",
        "    sentence = ' '.join(word for word in list_words)\n",
        "    return sentence"
      ]
    },
    {
      "cell_type": "code",
      "execution_count": 10,
      "metadata": {
        "id": "jA5BnScynn2h"
      },
      "outputs": [],
      "source": [
        "slangwords = {\"@\": \"di\", \"abis\": \"habis\", \"wtb\": \"beli\", \"masi\": \"masih\", \"wts\": \"jual\", \"wtt\": \"tukar\", \"bgt\": \"banget\", \"maks\": \"maksimal\", \"plisss\": \"tolong\", \"bgttt\": \"banget\", \"indo\": \"indonesia\", \"bgtt\": \"banget\", \"ad\": \"ada\", \"plis\": \"tolong\", \"pls\": \"tolong\", \"cr\": \"sumber\", \"cod\": \"bayar ditempat\", \"adlh\": \"adalah\", \"afaik\": \"as far as i know\", \"ahaha\": \"haha\", \"aj\": \"saja\", \"ajep-ajep\": \"dunia gemerlap\", \"ak\": \"saya\", \"akika\": \"aku\", \"akkoh\": \"aku\", \"akuwh\": \"aku\", \"alay\": \"norak\", \"alow\": \"halo\", \"ambilin\": \"ambilkan\", \"ancur\": \"hancur\", \"anjrit\": \"anjing\", \"anter\": \"antar\", \"ap2\": \"apa-apa\", \"apasih\": \"apa sih\", \"apes\": \"sial\", \"aps\": \"apa\", \"aq\": \"saya\", \"aquwh\": \"aku\", \"asbun\": \"asal bunyi\", \"aseekk\": \"asyik\", \"asekk\": \"asyik\", \"asem\": \"asam\", \"aspal\": \"asli tetapi palsu\", \"astul\": \"asal tulis\", \"ato\": \"atau\", \"au ah\": \"tidak mau tahu\", \"awak\": \"saya\", \"ay\": \"sayang\", \"ayank\": \"sayang\", \"b4\": \"sebelum\", \"bakalan\": \"akan\", \"bandes\": \"bantuan desa\", \"bangedh\": \"banget\", \"banpol\": \"bantuan polisi\", \"banpur\": \"bantuan tempur\", \"basbang\": \"basi\", \"bcanda\": \"bercanda\", \"bdg\": \"bandung\", \"begajulan\": \"nakal\", \"beliin\": \"belikan\", \"bencong\": \"banci\", \"bentar\": \"sebentar\", \"ber3\": \"bertiga\", \"beresin\": \"membereskan\", \"bete\": \"bosan\", \"beud\": \"banget\", \"bg\": \"abang\", \"bgmn\": \"bagaimana\", \"bgt\": \"banget\", \"bijimane\": \"bagaimana\", \"bintal\": \"bimbingan mental\", \"bkl\": \"akan\", \"bknnya\": \"bukannya\", \"blegug\": \"bodoh\", \"blh\": \"boleh\", \"bln\": \"bulan\", \"blum\": \"belum\", \"bnci\": \"benci\", \"bnran\": \"yang benar\", \"bodor\": \"lucu\", \"bokap\": \"ayah\", \"boker\": \"buang air besar\", \"bokis\": \"bohong\", \"boljug\": \"boleh juga\", \"bonek\": \"bocah nekat\", \"boyeh\": \"boleh\", \"br\": \"baru\", \"brg\": \"bareng\", \"bro\": \"saudara laki-laki\", \"bru\": \"baru\", \"bs\": \"bisa\", \"bsen\": \"bosan\", \"bt\": \"buat\", \"btw\": \"ngomong-ngomong\", \"buaya\": \"tidak setia\", \"bubbu\": \"tidur\", \"bubu\": \"tidur\", \"bumil\": \"ibu hamil\", \"bw\": \"bawa\", \"bwt\": \"buat\", \"byk\": \"banyak\", \"byrin\": \"bayarkan\", \"cabal\": \"sabar\", \"cadas\": \"keren\", \"calo\": \"makelar\", \"can\": \"belum\", \"capcus\": \"pergi\", \"caper\": \"cari perhatian\", \"ce\": \"cewek\", \"cekal\": \"cegah tangkal\", \"cemen\": \"penakut\", \"cengengesan\": \"tertawa\", \"cepet\": \"cepat\", \"cew\": \"cewek\", \"chuyunk\": \"sayang\", \"cimeng\": \"ganja\", \"cipika cipiki\": \"cium pipi kanan cium pipi kiri\", \"ciyh\": \"sih\", \"ckepp\": \"cakep\", \"ckp\": \"cakep\", \"cmiiw\": \"correct me if i'm wrong\", \"cmpur\": \"campur\", \"cong\": \"banci\", \"conlok\": \"cinta lokasi\", \"cowwyy\": \"maaf\", \"cp\": \"siapa\", \"cpe\": \"capek\", \"cppe\": \"capek\", \"cucok\": \"cocok\", \"cuex\": \"cuek\", \"cumi\": \"Cuma miscall\", \"cups\": \"culun\", \"curanmor\": \"pencurian kendaraan bermotor\", \"curcol\": \"curahan hati colongan\", \"cwek\": \"cewek\", \"cyin\": \"cinta\", \"d\": \"di\", \"dah\": \"deh\", \"dapet\": \"dapat\", \"de\": \"adik\", \"dek\": \"adik\", \"demen\": \"suka\", \"deyh\": \"deh\", \"dgn\": \"dengan\", \"diancurin\": \"dihancurkan\", \"dimaafin\": \"dimaafkan\", \"dimintak\": \"diminta\", \"disono\": \"di sana\", \"dket\": \"dekat\", \"dkk\": \"dan kawan-kawan\", \"dll\": \"dan lain-lain\", \"dlu\": \"dulu\", \"dngn\": \"dengan\", \"dodol\": \"bodoh\", \"doku\": \"uang\", \"dongs\": \"dong\", \"dpt\": \"dapat\", \"dri\": \"dari\", \"drmn\": \"darimana\", \"drtd\": \"dari tadi\", \"dst\": \"dan seterusnya\", \"dtg\": \"datang\", \"duh\": \"aduh\", \"duren\": \"durian\", \"ed\": \"edisi\", \"egp\": \"emang gue pikirin\", \"eke\": \"aku\", \"elu\": \"kamu\", \"emangnya\": \"memangnya\", \"emng\": \"memang\", \"endak\": \"tidak\", \"enggak\": \"tidak\", \"envy\": \"iri\", \"ex\": \"mantan\", \"fax\": \"facsimile\", \"fifo\": \"first in first out\", \"folbek\": \"follow back\", \"fyi\": \"sebagai informasi\", \"gaada\": \"tidak ada uang\", \"gag\": \"tidak\", \"gaje\": \"tidak jelas\", \"gak papa\": \"tidak apa-apa\", \"gan\": \"juragan\", \"gaptek\": \"gagap teknologi\", \"gatek\": \"gagap teknologi\", \"gawe\": \"kerja\", \"gbs\": \"tidak bisa\", \"gebetan\": \"orang yang disuka\", \"geje\": \"tidak jelas\", \"gepeng\": \"gelandangan dan pengemis\", \"ghiy\": \"lagi\", \"gile\": \"gila\", \"gimana\": \"bagaimana\", \"gino\": \"gigi nongol\", \"githu\": \"gitu\", \"gj\": \"tidak jelas\", \"gmana\": \"bagaimana\", \"gn\": \"begini\", \"goblok\": \"bodoh\", \"golput\": \"golongan putih\", \"gowes\": \"mengayuh sepeda\", \"gpny\": \"tidak punya\", \"gr\": \"gede rasa\", \"gretongan\": \"gratisan\", \"gtau\": \"tidak tahu\", \"gua\": \"saya\", \"guoblok\": \"goblok\", \"gw\": \"saya\", \"ha\": \"tertawa\", \"haha\": \"tertawa\", \"hallow\": \"halo\", \"hankam\": \"pertahanan dan keamanan\", \"hehe\": \"he\", \"helo\": \"halo\", \"hey\": \"hai\", \"hlm\": \"halaman\", \"hny\": \"hanya\", \"hoax\": \"isu bohong\", \"hr\": \"hari\", \"hrus\": \"harus\", \"hubdar\": \"perhubungan darat\", \"huff\": \"mengeluh\", \"hum\": \"rumah\", \"humz\": \"rumah\", \"ilang\": \"hilang\", \"ilfil\": \"tidak suka\", \"imho\": \"in my humble opinion\", \"imoetz\": \"imut\", \"item\": \"hitam\", \"itungan\": \"hitungan\", \"iye\": \"iya\", \"ja\": \"saja\", \"jadiin\": \"jadi\", \"jaim\": \"jaga image\", \"jayus\": \"tidak lucu\", \"jdi\": \"jadi\", \"jem\": \"jam\", \"jga\": \"juga\", \"jgnkan\": \"jangankan\", \"jir\": \"anjing\", \"jln\": \"jalan\", \"jomblo\": \"tidak punya pacar\", \"jubir\": \"juru bicara\", \"jutek\": \"galak\", \"k\": \"ke\", \"kab\": \"kabupaten\", \"kabor\": \"kabur\", \"kacrut\": \"kacau\", \"kadiv\": \"kepala divisi\", \"kagak\": \"tidak\", \"kalo\": \"kalau\", \"kampret\": \"sialan\", \"kamtibmas\": \"keamanan dan ketertiban masyarakat\", \"kamuwh\": \"kamu\", \"kanwil\": \"kantor wilayah\", \"karna\": \"karena\", \"kasubbag\": \"kepala subbagian\", \"katrok\": \"kampungan\", \"kayanya\": \"kayaknya\", \"kbr\": \"kabar\", \"kdu\": \"harus\", \"kec\": \"kecamatan\", \"kejurnas\": \"kejuaraan nasional\", \"kekeuh\": \"keras kepala\", \"kel\": \"kelurahan\", \"kemaren\": \"kemarin\", \"kepengen\": \"mau\", \"kepingin\": \"mau\", \"kepsek\": \"kepala sekolah\", \"kesbang\": \"kesatuan bangsa\", \"kesra\": \"kesejahteraan rakyat\", \"ketrima\": \"diterima\", \"kgiatan\": \"kegiatan\", \"kibul\": \"bohong\", \"kimpoi\": \"kawin\", \"kl\": \"kalau\", \"klianz\": \"kalian\", \"kloter\": \"kelompok terbang\", \"klw\": \"kalau\", \"km\": \"kamu\", \"kmps\": \"kampus\", \"kmrn\": \"kemarin\", \"knal\": \"kenal\", \"knp\": \"kenapa\", \"kodya\": \"kota madya\", \"komdis\": \"komisi disiplin\", \"komsov\": \"komunis sovyet\", \"kongkow\": \"kumpul bareng teman-teman\", \"kopdar\": \"kopi darat\", \"korup\": \"korupsi\", \"kpn\": \"kapan\", \"krenz\": \"keren\", \"krm\": \"kirim\", \"kt\": \"kita\", \"ktmu\": \"ketemu\", \"ktr\": \"kantor\", \"kuper\": \"kurang pergaulan\", \"kw\": \"imitasi\", \"kyk\": \"seperti\", \"la\": \"lah\", \"lam\": \"salam\", \"lamp\": \"lampiran\", \"lanud\": \"landasan udara\", \"latgab\": \"latihan gabungan\", \"lebay\": \"berlebihan\", \"leh\": \"boleh\", \"lelet\": \"lambat\", \"lemot\": \"lambat\", \"lgi\": \"lagi\", \"lgsg\": \"langsung\", \"liat\": \"lihat\", \"litbang\": \"penelitian dan pengembangan\", \"lmyn\": \"lumayan\", \"lo\": \"kamu\", \"loe\": \"kamu\", \"lola\": \"lambat berfikir\", \"louph\": \"cinta\", \"low\": \"kalau\", \"lp\": \"lupa\", \"luber\": \"langsung, umum, bebas, dan rahasia\", \"luchuw\": \"lucu\", \"lum\": \"belum\", \"luthu\": \"lucu\", \"lwn\": \"lawan\", \"maacih\": \"terima kasih\", \"mabal\": \"bolos\", \"macem\": \"macam\", \"macih\": \"masih\", \"maem\": \"makan\", \"magabut\": \"makan gaji buta\", \"maho\": \"homo\", \"mak jang\": \"kaget\", \"maksain\": \"memaksa\", \"malem\": \"malam\", \"mam\": \"makan\", \"maneh\": \"kamu\", \"maniez\": \"manis\", \"mao\": \"mau\", \"masukin\": \"masukkan\", \"melu\": \"ikut\", \"mepet\": \"dekat sekali\", \"mgu\": \"minggu\", \"migas\": \"minyak dan gas bumi\", \"mikol\": \"minuman beralkohol\", \"miras\": \"minuman keras\", \"mlah\": \"malah\", \"mngkn\": \"mungkin\", \"mo\": \"mau\", \"mokad\": \"mati\", \"moso\": \"masa\", \"mpe\": \"sampai\", \"msk\": \"masuk\", \"mslh\": \"masalah\", \"mt\": \"makan teman\", \"mubes\": \"musyawarah besar\", \"mulu\": \"melulu\", \"mumpung\": \"selagi\", \"munas\": \"musyawarah nasional\", \"muntaber\": \"muntah dan berak\", \"musti\": \"mesti\", \"muupz\": \"maaf\", \"mw\": \"now watching\", \"n\": \"dan\", \"nanam\": \"menanam\", \"nanya\": \"bertanya\", \"napa\": \"kenapa\", \"napi\": \"narapidana\", \"napza\": \"narkotika, alkohol, psikotropika, dan zat adiktif \", \"narkoba\": \"narkotika, psikotropika, dan obat terlarang\", \"nasgor\": \"nasi goreng\", \"nda\": \"tidak\", \"ndiri\": \"sendiri\", \"ne\": \"ini\", \"nekolin\": \"neokolonialisme\", \"nembak\": \"menyatakan cinta\", \"ngabuburit\": \"menunggu berbuka puasa\", \"ngaku\": \"mengaku\", \"ngambil\": \"mengambil\", \"nganggur\": \"tidak punya pekerjaan\", \"ngapah\": \"kenapa\", \"ngaret\": \"terlambat\", \"ngasih\": \"memberikan\", \"ngebandel\": \"berbuat bandel\", \"ngegosip\": \"bergosip\", \"ngeklaim\": \"mengklaim\", \"ngeksis\": \"menjadi eksis\", \"ngeles\": \"berkilah\", \"ngelidur\": \"menggigau\", \"ngerampok\": \"merampok\", \"ngga\": \"tidak\", \"ngibul\": \"berbohong\", \"ngiler\": \"mau\", \"ngiri\": \"iri\", \"ngisiin\": \"mengisikan\", \"ngmng\": \"bicara\", \"ngomong\": \"bicara\", \"ngubek2\": \"mencari-cari\", \"ngurus\": \"mengurus\", \"nie\": \"ini\", \"nih\": \"ini\", \"niyh\": \"nih\", \"nmr\": \"nomor\", \"nntn\": \"nonton\", \"nobar\": \"nonton bareng\", \"np\": \"now playing\", \"ntar\": \"nanti\", \"ntn\": \"nonton\", \"numpuk\": \"bertumpuk\", \"nutupin\": \"menutupi\", \"nyari\": \"mencari\", \"nyekar\": \"menyekar\", \"nyicil\": \"mencicil\", \"nyoblos\": \"mencoblos\", \"nyokap\": \"ibu\", \"ogah\": \"tidak mau\", \"ol\": \"online\", \"ongkir\": \"ongkos kirim\", \"oot\": \"out of topic\", \"org2\": \"orang-orang\", \"ortu\": \"orang tua\", \"otda\": \"otonomi daerah\", \"otw\": \"on the way, sedang di jalan\", \"pacal\": \"pacar\", \"pake\": \"pakai\", \"pala\": \"kepala\", \"pansus\": \"panitia khusus\", \"parpol\": \"partai politik\", \"pasutri\": \"pasangan suami istri\", \"pd\": \"pada\", \"pede\": \"percaya diri\", \"pelatnas\": \"pemusatan latihan nasional\", \"pemda\": \"pemerintah daerah\", \"pemkot\": \"pemerintah kota\", \"pemred\": \"pemimpin redaksi\", \"penjas\": \"pendidikan jasmani\", \"perda\": \"peraturan daerah\", \"perhatiin\": \"perhatikan\", \"pesenan\": \"pesanan\", \"pgang\": \"pegang\", \"pi\": \"tapi\", \"pilkada\": \"pemilihan kepala daerah\", \"pisan\": \"sangat\", \"pk\": \"penjahat kelamin\", \"plg\": \"paling\", \"pmrnth\": \"pemerintah\", \"polantas\": \"polisi lalu lintas\", \"ponpes\": \"pondok pesantren\", \"pp\": \"pulang pergi\", \"prg\": \"pergi\", \"prnh\": \"pernah\", \"psen\": \"pesan\", \"pst\": \"pasti\", \"pswt\": \"pesawat\", \"pw\": \"posisi nyaman\", \"qmu\": \"kamu\", \"rakor\": \"rapat koordinasi\", \"ranmor\": \"kendaraan bermotor\", \"re\": \"reply\", \"ref\": \"referensi\", \"rehab\": \"rehabilitasi\", \"rempong\": \"sulit\", \"repp\": \"balas\",  \"rhs\": \"rahasia\", \"rmh\": \"rumah\", \"ru\": \"baru\", \"ruz\": \"terus\", \"saia\": \"saya\", \"salting\": \"salah tingkah\", \"sampe\": \"sampai\", \"samsek\": \"sama sekali\", \"sapose\": \"siapa\", \"satpam\": \"satuan pengamanan\", \"sbb\": \"sebagai berikut\", \"sbh\": \"sebuah\", \"sbnrny\": \"sebenarnya\", \"scr\": \"secara\", \"sdgkn\": \"sedangkan\", \"sdkt\": \"sedikit\", \"se7\": \"setuju\", \"sebelas dua belas\": \"mirip\", \"sj\": \"saja\", \"skalian\": \"sekalian\", \"sklh\": \"sekolah\", \"skt\": \"sakit\", \"slesai\": \"selesai\", \"sll\": \"selalu\", \"slma\": \"selama\", \"slsai\": \"selesai\", \"smpt\": \"sempat\", \"smw\": \"semua\", \"sndiri\": \"sendiri\", \"songong\": \"sombong\", \"sory\": \"maaf\", \"sotoy\": \"sok tahu\", \"spa\": \"siapa\", \"sppa\": \"siapa\", \"spt\": \"seperti\", \"stiap\": \"setiap\", \"stlh\": \"setelah\", \"suk\": \"masuk\", \"sumpek\": \"sempit\", \"syg\": \"sayang\", \"t4\": \"tempat\", \"tajir\": \"kaya\", \"tau\": \"tahu\", \"taw\": \"tahu\", \"td\": \"tadi\", \"tdk\": \"tidak\", \"teh\": \"kakak perempuan\", \"telat\": \"terlambat\", \"telmi\": \"telat berpikir\", \"temen\": \"teman\", \"tggu\": \"tunggu\", \"tgu\": \"tunggu\", \"thankz\": \"terima kasih\", \"thn\": \"tahun\", \"tks\": \"terima kasih\", \"tlp\": \"telepon\", \"tls\": \"tulis\", \"tmbah\": \"tambah\", \"tmen2\": \"teman-teman\", \"tmpah\": \"tumpah\", \"tmpt\": \"tempat\", \"tngu\": \"tunggu\", \"tnyta\": \"ternyata\", \"tokai\": \"tai\", \"toserba\": \"toko serba ada\", \"tpi\": \"tapi\", \"trdhulu\": \"terdahulu\", \"trima\": \"terima kasih\", \"trm\": \"terima\", \"trs\": \"terus\", \"trutama\": \"terutama\", \"ts\": \"penulis\", \"tst\": \"tahu sama tahu\", \"ttg\": \"tentang\", \"tuch\": \"tuh\", \"tuir\": \"tua\", \"tw\": \"tahu\", \"u\": \"kamu\", \"ud\": \"sudah\", \"udah\": \"sudah\", \"ujg\": \"ujung\", \"ul\": \"ulangan\", \"unyu\": \"lucu\", \"uplot\": \"unggah\", \"urang\": \"saya\", \"usah\": \"perlu\", \"utk\": \"untuk\",  \"wat\": \"buat\", \"wkt\": \"waktu\", \"wtf\": \"what the fuck\", \"xixixi\": \"tertawa\", \"ya\": \"iya\", \"yap\": \"iya\", \"yaudah\": \"ya sudah\", \"yawdah\": \"ya sudah\", \"yg\": \"yang\", \"yl\": \"yang lain\", \"yo\": \"iya\", \"yowes\": \"ya sudah\", \"yup\": \"iya\", \"7an\": \"tujuan\", \"ababil\": \"abg labil\", \"acc\": \"accord\", \"adlah\": \"adalah\", \"adoh\": \"aduh\", \"aha\": \"tertawa\", \"aing\": \"saya\", \"aja\": \"saja\", \"ajj\": \"saja\", \"aka\": \"dikenal juga sebagai\", \"akko\": \"aku\", \"akku\": \"aku\", \"akyu\": \"aku\", \"aljasa\": \"asal jadi saja\", \"ama\": \"sama\", \"ambl\": \"ambil\", \"anjir\": \"anjing\", \"ank\": \"anak\", \"ap\": \"apa\", \"apaan\": \"apa\", \"ape\": \"apa\", \"aplot\": \"unggah\", \"apva\": \"apa\", \"aqu\": \"aku\", \"asap\": \"sesegera mungkin\", \"aseek\": \"asyik\", \"asek\": \"asyik\", \"aseknya\": \"asyiknya\", \"asoy\": \"asyik\", \"ath\": \"kalau begitu\", \"atuh\": \"kalau begitu\", \"ava\": \"avatar\", \"aws\": \"awas\", \"ayang\": \"sayang\", \"ayok\": \"ayo\", \"bacot\": \"banyak bicara\", \"bales\": \"balas\", \"bangdes\": \"pembangunan desa\", \"bangkotan\": \"tua\", \"banpres\": \"bantuan presiden\", \"bansarkas\": \"bantuan sarana kesehatan\", \"bazis\": \"badan amal, zakat, infak, dan sedekah\", \"bcoz\": \"karena\", \"beb\": \"sayang\", \"bejibun\": \"banyak\", \"belom\": \"belum\", \"bener\": \"benar\", \"ber2\": \"berdua\", \"berdikari\": \"berdiri di atas kaki sendiri\", \"bet\": \"banget\", \"beti\": \"beda tipis\", \"beut\": \"banget\", \"bgd\": \"banget\", \"bgs\": \"bagus\", \"bhubu\": \"tidur\", \"bimbuluh\": \"bimbingan dan penyuluhan\", \"bisi\": \"kalau-kalau\", \"bkn\": \"bukan\", \"bl\": \"beli\", \"blg\": \"bilang\", \"blm\": \"belum\", \"bls\": \"balas\", \"bnchi\": \"benci\", \"bngung\": \"bingung\", \"bnyk\": \"banyak\", \"bohay\": \"badan aduhai\", \"bole\": \"boleh\", \"bolot\": \"bodoh\", \"bonyok\": \"ayah ibu\", \"bpk\": \"bapak\", \"brb\": \"segera kembali\", \"brngkt\": \"berangkat\", \"brp\": \"berapa\", \"brur\": \"saudara laki-laki\", \"bsa\": \"bisa\", \"bsk\": \"besok\", \"bu_bu\": \"tidur\", \"bubarin\": \"bubarkan\", \"buber\": \"buka bersama\", \"bujubune\": \"luar biasa\", \"buser\": \"buru sergap\", \"bwhn\": \"bawahan\", \"byar\": \"bayar\", \"byr\": \"bayar\", \"c8\": \"chat\", \"cabut\": \"pergi\", \"caem\": \"cakep\", \"cama-cama\": \"sama-sama\", \"cangcut\": \"celana dalam\", \"cape\": \"capek\", \"caur\": \"jelek\", \"cekak\": \"tidak ada uang\", \"cekidot\": \"coba lihat\", \"cemplungin\": \"cemplungkan\", \"ceper\": \"pendek\", \"ceu\": \"kakak perempuan\", \"cewe\": \"cewek\", \"cibuk\": \"sibuk\", \"cin\": \"cinta\", \"ciye\": \"cie\", \"ckck\": \"ck\", \"clbk\": \"cinta lama bersemi kembali\", \"cmpr\": \"campur\", \"cnenk\": \"senang\", \"congor\": \"mulut\", \"cow\": \"cowok\", \"coz\": \"karena\", \"cpa\": \"siapa\", \"gokil\": \"gila\", \"gombal\": \"suka merayu\", \"gpl\": \"tidak pakai lama\", \"gpp\": \"tidak apa-apa\", \"gretong\": \"gratis\", \"gt\": \"begitu\", \"gtw\": \"tidak tahu\", \"gue\": \"saya\", \"guys\": \"teman-teman\", \"gws\": \"cepat sembuh\", \"haghaghag\": \"tertawa\", \"hakhak\": \"tertawa\", \"handak\": \"bahan peledak\", \"hansip\": \"pertahanan sipil\", \"hellow\": \"halo\", \"helow\": \"halo\", \"hi\": \"hai\", \"hlng\": \"hilang\", \"hnya\": \"hanya\", \"houm\": \"rumah\", \"hrs\": \"harus\", \"hubad\": \"hubungan angkatan darat\", \"hubla\": \"perhubungan laut\", \"huft\": \"mengeluh\", \"humas\": \"hubungan masyarakat\", \"idk\": \"saya tidak tahu\", \"ilfeel\": \"tidak suka\", \"imba\": \"jago sekali\", \"imoet\": \"imut\", \"info\": \"informasi\", \"itung\": \"hitung\", \"isengin\": \"bercanda\", \"iyala\": \"iya lah\", \"iyo\": \"iya\", \"jablay\": \"jarang dibelai\", \"jadul\": \"jaman dulu\", \"jancuk\": \"anjing\", \"jd\": \"jadi\", \"jdikan\": \"jadikan\", \"jg\": \"juga\", \"jgn\": \"jangan\", \"jijay\": \"jijik\", \"jkt\": \"jakarta\", \"jnj\": \"janji\", \"jth\": \"jatuh\", \"jurdil\": \"jujur adil\", \"jwb\": \"jawab\", \"ka\": \"kakak\", \"kabag\": \"kepala bagian\", \"kacian\": \"kasihan\", \"kaga\": \"tidak\", \"kaka\": \"kakak\", \"kamuh\": \"kamu\", \"kamyu\": \"kamu\", \"kau\": \"kamu\", \"kbar\": \"kabar\", \"kcian\": \"kasihan\", \"keburu\": \"terlanjur\", \"kedubes\": \"kedutaan besar\", \"kek\": \"seperti\", \"keknya\": \"kayaknya\", \"keliatan\": \"kelihatan\", \"keneh\": \"masih\", \"kepikiran\": \"terpikirkan\", \"kepo\": \"mau tahu urusan orang\", \"kere\": \"tidak punya uang\", \"kesian\": \"kasihan\", \"ketauan\": \"ketahuan\", \"keukeuh\": \"keras kepala\", \"khan\": \"kan\", \"kk\": \"kakak\", \"klian\": \"kalian\", \"klo\": \"kalau\", \"kluarga\": \"keluarga\", \"klwrga\": \"keluarga\", \"kmari\": \"kemari\", \"kmpus\": \"kampus\", \"kn\": \"kan\", \"knl\": \"kenal\", \"knpa\": \"kenapa\", \"kog\": \"kok\", \"kompi\": \"komputer\", \"koq\": \"kok\", \"kpd\": \"kepada\", \"kptsan\": \"keputusan\", \"krik\": \"garing\", \"krn\": \"karena\", \"ktauan\": \"ketahuan\", \"ktny\": \"katanya\", \"kudu\": \"harus\", \"kuq\": \"kok\", \"ky\": \"seperti\", \"kykny\": \"kayanya\", \"laka\": \"kecelakaan\", \"lambreta\": \"lambat\", \"lansia\": \"lanjut usia\", \"lbur\": \"libur\", \"lekong\": \"laki-laki\", \"lg\": \"lagi\", \"lgkp\": \"lengkap\", \"lht\": \"lihat\", \"lmyan\": \"lumayan\", \"lngkp\": \"lengkap\", \"loch\": \"loh\", \"lol\": \"tertawa\", \"lom\": \"belum\", \"loupz\": \"cinta\", \"lowh\": \"kamu\", \"lu\": \"kamu\", \"luchu\": \"lucu\", \"luff\": \"cinta\", \"luph\": \"cinta\", \"lw\": \"kamu\", \"lwt\": \"lewat\", \"maaciw\": \"terima kasih\", \"mabes\": \"markas besar\", \"macem-macem\": \"macam-macam\", \"madesu\": \"masa depan suram\", \"maen\": \"main\", \"mahatma\": \"maju sehat bersama\", \"mak\": \"ibu\", \"makasih\": \"terima kasih\", \"malah\": \"bahkan\", \"malu2in\": \"memalukan\", \"mamz\": \"makan\", \"manies\": \"manis\", \"mantep\": \"mantap\", \"markus\": \"makelar kasus\", \"mba\": \"mbak\", \"mending\": \"lebih baik\", \"mgkn\": \"mungkin\", \"mhn\": \"mohon\", \"mksd\": \"maksud\", \"mls\": \"malas\", \"mnt\": \"minta\", \"mokat\": \"mati\", \"mosok\": \"masa\", \"msh\": \"masih\", \"mskpn\": \"meskipun\", \"msng2\": \"masing-masing\", \"muahal\": \"mahal\", \"muker\": \"musyawarah kerja\", \"mumet\": \"pusing\", \"muna\": \"munafik\", \"muup\": \"maaf\", \"muuv\": \"maaf\", \"nal\": \"kenal\", \"nangis\": \"menangis\", \"naon\": \"apa\", \"naq\": \"anak\", \"narsis\": \"bangga pada diri sendiri\", \"nax\": \"anak\", \"ndak\": \"tidak\", \"nelfon\": \"menelepon\", \"ngabis2in\": \"menghabiskan\", \"ngakak\": \"tertawa\", \"ngambek\": \"marah\", \"ngampus\": \"pergi ke kampus\", \"ngantri\": \"mengantri\", \"ngapain\": \"sedang apa\", \"ngaruh\": \"berpengaruh\", \"ngawur\": \"berbicara sembarangan\", \"ngeh\": \"sadar\", \"ngekos\": \"tinggal di kos\", \"ngelamar\": \"melamar\", \"ngeliat\": \"melihat\", \"ngemeng\": \"bicara terus-terusan\", \"ngerti\": \"mengerti\", \"nggak\": \"tidak\", \"ngikut\": \"ikut\", \"nginep\": \"menginap\", \"ngisi\": \"mengisi\", \"ngmg\": \"bicara\", \"ngocol\": \"lucu\", \"ngomongin\": \"membicarakan\", \"ngumpul\": \"berkumpul\", \"ni\": \"ini\", \"nyasar\": \"tersesat\", \"nyariin\": \"mencari\", \"nyiapin\": \"mempersiapkan\", \"nyiram\": \"menyiram\", \"nyok\": \"ayo\", \"o/\": \"oleh\", \"ok\": \"ok\", \"priksa\": \"periksa\", \"pro\": \"profesional\", \"psn\": \"pesan\", \"psti\": \"pasti\", \"puanas\": \"panas\", \"qmo\": \"kamu\", \"qt\": \"kita\", \"rame\": \"ramai\", \"raskin\": \"rakyat miskin\", \"reg\": \"register\", \"rejeki\": \"rezeki\", \"sni\": \"sini\", \"somse\": \"sombong sekali\", \"sorry\": \"maaf\", \"sowry\": \"maaf\", \"spd\": \"sepeda\", \"sprti\": \"seperti\", \"spy\": \"supaya\", \"stelah\": \"setelah\", \"sy\": \"saya\", \"syp\": \"siapa\", \"tar\": \"nanti\", \"taun\": \"tahun\", \"tawh\": \"tahu\", \"tdi\": \"tadi\", \"te2p\": \"tetap\", \"tekor\": \"rugi\", \"telkom\": \"telekomunikasi\", \"telp\": \"telepon\", \"temen2\": \"teman-teman\", \"tengok\": \"menjenguk\", \"terbitin\": \"terbitkan\", \"tgl\": \"tanggal\", \"thanks\": \"terima kasih\", \"thd\": \"terhadap\", \"thx\": \"terima kasih\", \"tkg\": \"tukang\", \"tll\": \"terlalu\", \"tlpn\": \"telepon\", \"tman\": \"teman\", \"tmbh\": \"tambah\", \"tmn2\": \"teman-teman\", \"tmph\": \"tumpah\", \"tnda\": \"tanda\", \"tnh\": \"tanah\", \"tp\": \"tapi\", \"tq\": \"terima kasih\", \"trgntg\": \"tergantung\", \"trims\": \"terima kasih\", \"cb\": \"coba\", \"y\": \"ya\", \"munfik\": \"munafik\", \"sma\": \"sama\", \"tren\": \"trend\", \"ngehe\": \"kesal\", \"mz\": \"mas\", \"analisise\": \"analisis\", \"sadaar\": \"sadar\", \"sept\": \"september\", \"nmenarik\": \"menarik\", \"zonk\": \"bodoh\", \"rights\": \"benar\", \"simiskin\": \"miskin\", \"ngumpet\": \"sembunyi\", \"hardcore\": \"keras\", \"akhirx\": \"akhirnya\", \"solve\": \"solusi\", \"watuk\": \"batuk\", \"ngebully\": \"intimidasi\", \"masy\": \"masyarakat\", \"still\": \"masih\", \"tauk\": \"tahu\", \"mbual\": \"bual\", \"tioghoa\": \"tionghoa\", \"ngentotin\": \"senggama\", \"kentot\": \"senggama\", \"faktakta\": \"fakta\", \"sohib\": \"teman\", \"rubahnn\": \"rubah\", \"trlalu\": \"terlalu\", \"nyela\": \"cela\", \"heters\": \"pembenci\", \"nyembah\": \"sembah\", \"most\": \"paling\", \"ikon\": \"lambang\", \"light\": \"terang\", \"pndukung\": \"pendukung\", \"setting\": \"atur\", \"seting\": \"akting\", \"next\": \"lanjut\", \"waspadalah\": \"waspada\",\"nyerang\": \"serang\", \"nipu\": \"tipu\", \"ktipu\": \"tipu\", \"jentelmen\": \"berani\", \"buangbuang\": \"buang\", \"tsangka\": \"tersangka\", \"kurng\": \"kurang\", \"ista\": \"nista\", \"less\": \"kurang\", \"koar\": \"teriak\", \"paranoid\": \"takut\", \"problem\": \"masalah\", \"tahi\": \"kotoran\", \"happy\": \"bahagia\", \"tak\": \"tidak\", \"penertiban\": \"tertib\", \"uasai\": \"kuasa\", \"mnolak\": \"tolak\", \"trending\": \"trend\", \"taik\": \"tahi\", \"wkwkkw\": \"tertawa\", \"istaa\": \"nista\", \"benarjujur\": \"jujur\", \"mgkin\": \"mungkin\"}\n",
        "def fix_slangwords(text):\n",
        "    words = text.split()\n",
        "    fixed_words = []\n",
        "\n",
        "    for word in words:\n",
        "        if word.lower() in slangwords:\n",
        "            fixed_words.append(slangwords[word.lower()])\n",
        "        else:\n",
        "            fixed_words.append(word)\n",
        "\n",
        "    fixed_text = ' '.join(fixed_words)\n",
        "    return fixed_text"
      ]
    },
    {
      "cell_type": "code",
      "execution_count": 11,
      "metadata": {
        "colab": {
          "base_uri": "https://localhost:8080/",
          "height": 206
        },
        "id": "Rq4sGn9rnvv5",
        "outputId": "43c4c535-c7fc-4bdc-84a4-7b7e76c3bf8c"
      },
      "outputs": [
        {
          "data": {
            "text/html": [
              "<div>\n",
              "<style scoped>\n",
              "    .dataframe tbody tr th:only-of-type {\n",
              "        vertical-align: middle;\n",
              "    }\n",
              "\n",
              "    .dataframe tbody tr th {\n",
              "        vertical-align: top;\n",
              "    }\n",
              "\n",
              "    .dataframe thead th {\n",
              "        text-align: right;\n",
              "    }\n",
              "</style>\n",
              "<table border=\"1\" class=\"dataframe\">\n",
              "  <thead>\n",
              "    <tr style=\"text-align: right;\">\n",
              "      <th></th>\n",
              "      <th>content</th>\n",
              "      <th>score</th>\n",
              "    </tr>\n",
              "  </thead>\n",
              "  <tbody>\n",
              "    <tr>\n",
              "      <th>0</th>\n",
              "      <td>Sangat lama banget ya dalam pengecekan nya, ti...</td>\n",
              "      <td>5</td>\n",
              "    </tr>\n",
              "    <tr>\n",
              "      <th>1</th>\n",
              "      <td>Kok sekarang lewat BCA sih,, otomatis semua tr...</td>\n",
              "      <td>3</td>\n",
              "    </tr>\n",
              "    <tr>\n",
              "      <th>2</th>\n",
              "      <td>Sangat kecewa. Dari jam 11 kemaren siang trans...</td>\n",
              "      <td>1</td>\n",
              "    </tr>\n",
              "    <tr>\n",
              "      <th>3</th>\n",
              "      <td>Tidak menyarankan membayar kartu kredit memaka...</td>\n",
              "      <td>5</td>\n",
              "    </tr>\n",
              "    <tr>\n",
              "      <th>4</th>\n",
              "      <td>Kenapa top up google play ribet sekali sekaran...</td>\n",
              "      <td>4</td>\n",
              "    </tr>\n",
              "  </tbody>\n",
              "</table>\n",
              "</div>"
            ],
            "text/plain": [
              "                                             content  score\n",
              "0  Sangat lama banget ya dalam pengecekan nya, ti...      5\n",
              "1  Kok sekarang lewat BCA sih,, otomatis semua tr...      3\n",
              "2  Sangat kecewa. Dari jam 11 kemaren siang trans...      1\n",
              "3  Tidak menyarankan membayar kartu kredit memaka...      5\n",
              "4  Kenapa top up google play ribet sekali sekaran...      4"
            ]
          },
          "execution_count": 11,
          "metadata": {},
          "output_type": "execute_result"
        }
      ],
      "source": [
        "clean_df.head()"
      ]
    },
    {
      "cell_type": "code",
      "execution_count": 12,
      "metadata": {
        "id": "3UfrxYDEnaQu"
      },
      "outputs": [],
      "source": [
        "clean_df['text_clean'] = clean_df['content'].apply(cleaningText)\n",
        "\n",
        "clean_df['text_casefoldingText'] = clean_df['text_clean'].apply(casefoldingText)\n",
        "\n",
        "clean_df['text_slangwords'] = clean_df['text_casefoldingText'].apply(fix_slangwords)\n",
        "\n",
        "clean_df['text_tokenizingText'] = clean_df['text_slangwords'].apply(tokenizingText)\n",
        "\n",
        "clean_df['text_stopword'] = clean_df['text_tokenizingText'].apply(filteringText)\n",
        "\n",
        "clean_df['text_akhir'] = clean_df['text_stopword'].apply(toSentence)"
      ]
    },
    {
      "cell_type": "code",
      "execution_count": 13,
      "metadata": {
        "colab": {
          "base_uri": "https://localhost:8080/",
          "height": 536
        },
        "id": "V7AbN1X8Jxk8",
        "outputId": "a2aab64c-d2d4-44d0-8279-b1538352e162"
      },
      "outputs": [
        {
          "data": {
            "text/html": [
              "<div>\n",
              "<style scoped>\n",
              "    .dataframe tbody tr th:only-of-type {\n",
              "        vertical-align: middle;\n",
              "    }\n",
              "\n",
              "    .dataframe tbody tr th {\n",
              "        vertical-align: top;\n",
              "    }\n",
              "\n",
              "    .dataframe thead th {\n",
              "        text-align: right;\n",
              "    }\n",
              "</style>\n",
              "<table border=\"1\" class=\"dataframe\">\n",
              "  <thead>\n",
              "    <tr style=\"text-align: right;\">\n",
              "      <th></th>\n",
              "      <th>content</th>\n",
              "      <th>score</th>\n",
              "      <th>text_clean</th>\n",
              "      <th>text_casefoldingText</th>\n",
              "      <th>text_slangwords</th>\n",
              "      <th>text_tokenizingText</th>\n",
              "      <th>text_stopword</th>\n",
              "      <th>text_akhir</th>\n",
              "    </tr>\n",
              "  </thead>\n",
              "  <tbody>\n",
              "    <tr>\n",
              "      <th>0</th>\n",
              "      <td>Sangat lama banget ya dalam pengecekan nya, ti...</td>\n",
              "      <td>5</td>\n",
              "      <td>Sangat lama banget ya dalam pengecekan nya tid...</td>\n",
              "      <td>sangat lama banget ya dalam pengecekan nya tid...</td>\n",
              "      <td>sangat lama banget iya dalam pengecekan nya ti...</td>\n",
              "      <td>[sangat, lama, banget, iya, dalam, pengecekan,...</td>\n",
              "      <td>[banget, pengecekan, cepat, mohon, system, pen...</td>\n",
              "      <td>banget pengecekan cepat mohon system pengeceka...</td>\n",
              "    </tr>\n",
              "    <tr>\n",
              "      <th>1</th>\n",
              "      <td>Kok sekarang lewat BCA sih,, otomatis semua tr...</td>\n",
              "      <td>3</td>\n",
              "      <td>Kok sekarang lewat BCA sih otomatis semua tran...</td>\n",
              "      <td>kok sekarang lewat bca sih otomatis semua tran...</td>\n",
              "      <td>kok sekarang lewat bca sih otomatis semua tran...</td>\n",
              "      <td>[kok, sekarang, lewat, bca, sih, otomatis, sem...</td>\n",
              "      <td>[bca, otomatis, transaksinya, transfer, bank, ...</td>\n",
              "      <td>bca otomatis transaksinya transfer bank biaya ...</td>\n",
              "    </tr>\n",
              "    <tr>\n",
              "      <th>2</th>\n",
              "      <td>Sangat kecewa. Dari jam 11 kemaren siang trans...</td>\n",
              "      <td>1</td>\n",
              "      <td>Sangat kecewa Dari jam kemaren siang transaksi...</td>\n",
              "      <td>sangat kecewa dari jam kemaren siang transaksi...</td>\n",
              "      <td>sangat kecewa dari jam kemarin siang transaksi...</td>\n",
              "      <td>[sangat, kecewa, dari, jam, kemarin, siang, tr...</td>\n",
              "      <td>[kecewa, jam, kemarin, siang, transaksi, pemba...</td>\n",
              "      <td>kecewa jam kemarin siang transaksi pembayaran ...</td>\n",
              "    </tr>\n",
              "    <tr>\n",
              "      <th>3</th>\n",
              "      <td>Tidak menyarankan membayar kartu kredit memaka...</td>\n",
              "      <td>5</td>\n",
              "      <td>Tidak menyarankan membayar kartu kredit memaka...</td>\n",
              "      <td>tidak menyarankan membayar kartu kredit memaka...</td>\n",
              "      <td>tidak menyarankan membayar kartu kredit memaka...</td>\n",
              "      <td>[tidak, menyarankan, membayar, kartu, kredit, ...</td>\n",
              "      <td>[menyarankan, membayar, kartu, kredit, memakai...</td>\n",
              "      <td>menyarankan membayar kartu kredit memakai flip...</td>\n",
              "    </tr>\n",
              "    <tr>\n",
              "      <th>4</th>\n",
              "      <td>Kenapa top up google play ribet sekali sekaran...</td>\n",
              "      <td>4</td>\n",
              "      <td>Kenapa top up google play ribet sekali sekaran...</td>\n",
              "      <td>kenapa top up google play ribet sekali sekaran...</td>\n",
              "      <td>kenapa top up google play ribet sekali sekaran...</td>\n",
              "      <td>[kenapa, top, up, google, play, ribet, sekali,...</td>\n",
              "      <td>[top, google, play, ribet, gogoplay, gk, pemba...</td>\n",
              "      <td>top google play ribet gogoplay gk pembayaranny...</td>\n",
              "    </tr>\n",
              "  </tbody>\n",
              "</table>\n",
              "</div>"
            ],
            "text/plain": [
              "                                             content  score  \\\n",
              "0  Sangat lama banget ya dalam pengecekan nya, ti...      5   \n",
              "1  Kok sekarang lewat BCA sih,, otomatis semua tr...      3   \n",
              "2  Sangat kecewa. Dari jam 11 kemaren siang trans...      1   \n",
              "3  Tidak menyarankan membayar kartu kredit memaka...      5   \n",
              "4  Kenapa top up google play ribet sekali sekaran...      4   \n",
              "\n",
              "                                          text_clean  \\\n",
              "0  Sangat lama banget ya dalam pengecekan nya tid...   \n",
              "1  Kok sekarang lewat BCA sih otomatis semua tran...   \n",
              "2  Sangat kecewa Dari jam kemaren siang transaksi...   \n",
              "3  Tidak menyarankan membayar kartu kredit memaka...   \n",
              "4  Kenapa top up google play ribet sekali sekaran...   \n",
              "\n",
              "                                text_casefoldingText  \\\n",
              "0  sangat lama banget ya dalam pengecekan nya tid...   \n",
              "1  kok sekarang lewat bca sih otomatis semua tran...   \n",
              "2  sangat kecewa dari jam kemaren siang transaksi...   \n",
              "3  tidak menyarankan membayar kartu kredit memaka...   \n",
              "4  kenapa top up google play ribet sekali sekaran...   \n",
              "\n",
              "                                     text_slangwords  \\\n",
              "0  sangat lama banget iya dalam pengecekan nya ti...   \n",
              "1  kok sekarang lewat bca sih otomatis semua tran...   \n",
              "2  sangat kecewa dari jam kemarin siang transaksi...   \n",
              "3  tidak menyarankan membayar kartu kredit memaka...   \n",
              "4  kenapa top up google play ribet sekali sekaran...   \n",
              "\n",
              "                                 text_tokenizingText  \\\n",
              "0  [sangat, lama, banget, iya, dalam, pengecekan,...   \n",
              "1  [kok, sekarang, lewat, bca, sih, otomatis, sem...   \n",
              "2  [sangat, kecewa, dari, jam, kemarin, siang, tr...   \n",
              "3  [tidak, menyarankan, membayar, kartu, kredit, ...   \n",
              "4  [kenapa, top, up, google, play, ribet, sekali,...   \n",
              "\n",
              "                                       text_stopword  \\\n",
              "0  [banget, pengecekan, cepat, mohon, system, pen...   \n",
              "1  [bca, otomatis, transaksinya, transfer, bank, ...   \n",
              "2  [kecewa, jam, kemarin, siang, transaksi, pemba...   \n",
              "3  [menyarankan, membayar, kartu, kredit, memakai...   \n",
              "4  [top, google, play, ribet, gogoplay, gk, pemba...   \n",
              "\n",
              "                                          text_akhir  \n",
              "0  banget pengecekan cepat mohon system pengeceka...  \n",
              "1  bca otomatis transaksinya transfer bank biaya ...  \n",
              "2  kecewa jam kemarin siang transaksi pembayaran ...  \n",
              "3  menyarankan membayar kartu kredit memakai flip...  \n",
              "4  top google play ribet gogoplay gk pembayaranny...  "
            ]
          },
          "execution_count": 13,
          "metadata": {},
          "output_type": "execute_result"
        }
      ],
      "source": [
        "clean_df.head()"
      ]
    },
    {
      "cell_type": "markdown",
      "metadata": {
        "id": "VZ9ga0lqk43D"
      },
      "source": [
        "## Pelabelan"
      ]
    },
    {
      "cell_type": "code",
      "execution_count": 14,
      "metadata": {
        "id": "9kyZRC_O-Hf1"
      },
      "outputs": [],
      "source": [
        "import csv\n",
        "import requests\n",
        "from io import StringIO"
      ]
    },
    {
      "cell_type": "code",
      "execution_count": 15,
      "metadata": {
        "id": "1vJJCUl7Ksbe"
      },
      "outputs": [],
      "source": [
        "\n",
        "\n",
        "lexicon_positive = dict()\n",
        "response = requests.get('https://raw.githubusercontent.com/angelmetanosaa/dataset/main/lexicon_positive.csv')\n",
        "\n",
        "if response.status_code == 200:\n",
        "    reader = csv.reader(StringIO(response.text), delimiter=',')\n",
        "    for row in reader:\n",
        "        lexicon_positive[row[0]] = int(row[1])\n",
        "else:\n",
        "    print(\"Failed to fetch positive lexicon data\")\n",
        "\n",
        "lexicon_negative = dict()\n",
        "\n",
        "response = requests.get('https://raw.githubusercontent.com/angelmetanosaa/dataset/main/lexicon_negative.csv')\n",
        "\n",
        "if response.status_code == 200:\n",
        "    reader = csv.reader(StringIO(response.text), delimiter=',')\n",
        "    for row in reader:\n",
        "        lexicon_negative[row[0]] = int(row[1])\n",
        "else:\n",
        "    print(\"Failed to fetch negative lexicon data\")\n"
      ]
    },
    {
      "cell_type": "code",
      "execution_count": 16,
      "metadata": {
        "id": "X4P2DFmmiy6Z"
      },
      "outputs": [],
      "source": [
        "\n",
        "def sentiment_analysis_lexicon_indonesia(text):\n",
        "    score = 0\n",
        "\n",
        "    for word in text:\n",
        "        if (word in lexicon_positive):\n",
        "            score = score + lexicon_positive[word]\n",
        "\n",
        "    for word in text:\n",
        "        if (word in lexicon_negative):\n",
        "            score = score + lexicon_negative[word]\n",
        "\n",
        "    polarity=''\n",
        "\n",
        "\n",
        "    if (score > 0):\n",
        "        polarity = 'positive'\n",
        "    elif (score < 0):\n",
        "        polarity = 'negative'\n",
        "    else:\n",
        "        polarity = 'neutral'\n",
        "\n",
        "    return score, polarity\n"
      ]
    },
    {
      "cell_type": "code",
      "execution_count": 17,
      "metadata": {
        "colab": {
          "base_uri": "https://localhost:8080/"
        },
        "id": "hgfGRh-2kxps",
        "outputId": "59776f20-da77-4285-a0ae-d04e1d772cb6"
      },
      "outputs": [
        {
          "name": "stdout",
          "output_type": "stream",
          "text": [
            "polarity\n",
            "positive    62999\n",
            "neutral     32007\n",
            "negative    26494\n",
            "Name: count, dtype: int64\n"
          ]
        }
      ],
      "source": [
        "results = clean_df['text_stopword'].apply(sentiment_analysis_lexicon_indonesia)\n",
        "results = list(zip(*results))\n",
        "clean_df['polarity_score'] = results[0]\n",
        "clean_df['polarity'] = results[1]\n",
        "print(clean_df['polarity'].value_counts())"
      ]
    },
    {
      "cell_type": "code",
      "execution_count": 18,
      "metadata": {
        "colab": {
          "base_uri": "https://localhost:8080/"
        },
        "id": "GLZhlNecBlyo",
        "outputId": "74735d30-20cf-4f65-81e2-a8fddba3468b"
      },
      "outputs": [
        {
          "name": "stdout",
          "output_type": "stream",
          "text": [
            "polarity\n",
            "negative    26494\n",
            "neutral     26494\n",
            "positive    26494\n",
            "Name: count, dtype: int64\n"
          ]
        }
      ],
      "source": [
        "from imblearn.under_sampling import RandomUnderSampler\n",
        "X = clean_df['text_akhir']\n",
        "y = clean_df['polarity']\n",
        "\n",
        "ros = RandomUnderSampler(random_state=42)\n",
        "X_resampled, y_resampled = ros.fit_resample(pd.DataFrame(X), y)\n",
        "\n",
        "resampled_df = pd.DataFrame({'text_akhir': X_resampled['text_akhir'], 'polarity': y_resampled})\n",
        "resampled_df = resampled_df.dropna(subset=['text_akhir'])\n",
        "print(resampled_df['polarity'].value_counts())"
      ]
    },
    {
      "cell_type": "code",
      "execution_count": 19,
      "metadata": {
        "id": "ITQHi1KGBlyo"
      },
      "outputs": [],
      "source": [
        "# Encode label menjadi angka\n",
        "label_encoder = LabelEncoder()\n",
        "resampled_df['label'] = label_encoder.fit_transform(resampled_df['polarity'])"
      ]
    },
    {
      "cell_type": "code",
      "execution_count": 20,
      "metadata": {
        "id": "JKgLFauNBlyo"
      },
      "outputs": [],
      "source": [
        "y = resampled_df['label']"
      ]
    },
    {
      "cell_type": "markdown",
      "metadata": {
        "id": "3_cbKxWRoIpo"
      },
      "source": [
        "## Feature Extraction"
      ]
    },
    {
      "cell_type": "markdown",
      "metadata": {
        "id": "9j25vUg9_jjO"
      },
      "source": [
        "**TF-IDF**"
      ]
    },
    {
      "cell_type": "code",
      "execution_count": 21,
      "metadata": {
        "id": "5XFR_-nvBlyo"
      },
      "outputs": [],
      "source": [
        "# TF-IDF Vectorization\n",
        "tfidf_vectorizer = TfidfVectorizer(max_features=1000)\n",
        "X_tfidf = tfidf_vectorizer.fit_transform(X_resampled['text_akhir'])"
      ]
    },
    {
      "cell_type": "code",
      "execution_count": 22,
      "metadata": {
        "id": "3XzrWsjUBlyo"
      },
      "outputs": [],
      "source": [
        "train_data_tfidf, temp_data_tfidf, train_labels_tfidf, temp_labels_tfidf = train_test_split(X_tfidf, y, test_size=0.5, random_state=42)\n",
        "val_data_tfidf, test_data_tfidf, val_labels_tfidf, test_labels_tfidf = train_test_split(temp_data_tfidf, temp_labels_tfidf, test_size=0.4, random_state=42)"
      ]
    },
    {
      "cell_type": "markdown",
      "metadata": {
        "id": "73LnjxQZBoAL"
      },
      "source": [
        "**Bag of Words**"
      ]
    },
    {
      "cell_type": "code",
      "execution_count": 23,
      "metadata": {
        "id": "DNFDqdKRBlyo"
      },
      "outputs": [],
      "source": [
        "from sklearn.feature_extraction.text import CountVectorizer\n",
        "\n",
        "\n",
        "# Ekstraksi fitur menggunakan Bag of Words\n",
        "vectorizer = CountVectorizer()\n",
        "X_bow = vectorizer.fit_transform(X_resampled['text_akhir'])  # Menghasilkan sparse matrix\n",
        "\n",
        "train_data_bow, temp_data_bow, train_labels_bow, temp_labels_bow = train_test_split(X_bow, y, test_size=0.5, random_state=42)\n",
        "val_data_bow, test_data_bow, val_labels_bow, test_labels_bow = train_test_split(temp_data_bow, temp_labels_bow, test_size=0.2, random_state=42)"
      ]
    },
    {
      "cell_type": "markdown",
      "metadata": {},
      "source": [
        "**Word Embedding**"
      ]
    },
    {
      "cell_type": "code",
      "execution_count": 28,
      "metadata": {},
      "outputs": [],
      "source": [
        "from tensorflow.keras.preprocessing.text import Tokenizer\n",
        "from tensorflow.keras.preprocessing.sequence import pad_sequences\n",
        "from tensorflow.keras.utils import to_categorical\n",
        "# Tokenisasi untuk X\n",
        "max_features = 2500\n",
        "tokenizer = Tokenizer(num_words=max_features, split=' ')\n",
        "tokenizer.fit_on_texts(X_resampled['text_akhir'])\n",
        "X = tokenizer.texts_to_sequences(X_resampled['text_akhir'])\n",
        "X = pad_sequences(X)\n",
        "\n",
        "# Label encoding untuk y (pastikan y_resampled adalah array 1D)\n",
        "labelencoder = LabelEncoder()\n",
        "y = labelencoder.fit_transform(y_resampled)  # y_resampled harus 1D array\n",
        "y = to_categorical(y)  # Mengubah ke format categorical setelah encoding\n",
        "\n",
        "# Menentukan jumlah kelas\n",
        "num_classes = y.shape[1]\n",
        "\n",
        "# Memisahkan data latih, validasi, dan uji\n",
        "train_data_GRU, temp_data_GRU, train_labels_GRU, temp_labels_GRU = train_test_split(X, y, test_size=0.5, random_state=42)\n",
        "val_data_GRU, test_data_GRU, val_labels_GRU, test_labels_GRU = train_test_split(temp_data_GRU, temp_labels_GRU, test_size=0.2, random_state=42)"
      ]
    },
    {
      "cell_type": "markdown",
      "metadata": {
        "id": "CJAxqvScBlyp"
      },
      "source": [
        "## Pelatihan Model"
      ]
    },
    {
      "cell_type": "markdown",
      "metadata": {},
      "source": [
        "**GRU + Word Embedding**"
      ]
    },
    {
      "cell_type": "code",
      "execution_count": 25,
      "metadata": {},
      "outputs": [],
      "source": [
        "from tensorflow.keras.callbacks import EarlyStopping\n",
        "\n",
        "# Menggunakan early stopping untuk menghentikan pelatihan jika akurasi validasi dan uji di atas 86%\n",
        "class CustomEarlyStopping(EarlyStopping):\n",
        "    def __init__(self, monitor='val_accuracy', value=0.86, verbose=1, **kwargs):\n",
        "        super(CustomEarlyStopping, self).__init__(monitor=monitor, verbose=verbose, **kwargs)\n",
        "        self.value = value\n",
        "\n",
        "    def on_epoch_end(self, epoch, logs=None):\n",
        "        current = logs.get(self.monitor)\n",
        "        if current is None:\n",
        "            return\n",
        "\n",
        "        if current >= self.value and logs.get('accuracy') >= self.value:\n",
        "            self.model.stop_training = True\n",
        "            if self.verbose > 0:\n",
        "                print(f'\\nEpoch {epoch + 1}: early stopping threshold reached.')\n",
        "\n",
        "early_stopping = CustomEarlyStopping(monitor='val_accuracy', value=0.86, patience=3, verbose=1)"
      ]
    },
    {
      "cell_type": "code",
      "execution_count": 26,
      "metadata": {},
      "outputs": [
        {
          "name": "stdout",
          "output_type": "stream",
          "text": [
            "Epoch 1/10\n"
          ]
        },
        {
          "name": "stderr",
          "output_type": "stream",
          "text": [
            "c:\\Users\\rizki\\AppData\\Local\\Programs\\Python\\Python312\\Lib\\site-packages\\keras\\src\\layers\\core\\embedding.py:90: UserWarning: Argument `input_length` is deprecated. Just remove it.\n",
            "  warnings.warn(\n"
          ]
        },
        {
          "name": "stdout",
          "output_type": "stream",
          "text": [
            "\n",
            "Epoch 1: early stopping threshold reached.\n",
            "994/994 - 107s - 108ms/step - accuracy: 0.8715 - loss: 0.5549 - val_accuracy: 0.9404 - val_loss: 0.2130\n"
          ]
        }
      ],
      "source": [
        "from tensorflow.keras.models import Sequential\n",
        "from tensorflow.keras.layers import Embedding, SpatialDropout1D, Dense, Dropout, GRU, Bidirectional\n",
        "from tensorflow.keras.optimizers import Adam\n",
        "from tensorflow.keras.regularizers import l2\n",
        "# Membangun model GRU\n",
        "model_GRU = Sequential()\n",
        "model_GRU.add(Embedding(max_features, 512, input_length=X.shape[1]))\n",
        "model_GRU.add(SpatialDropout1D(0.3))\n",
        "model_GRU.add(Bidirectional(GRU(64, return_sequences=True)))\n",
        "model_GRU.add(Bidirectional(GRU(128, return_sequences=False)))\n",
        "model_GRU.add(Dense(128, activation='relu',kernel_regularizer=l2(0.01)))\n",
        "model_GRU.add(Dropout(0.5))\n",
        "model_GRU.add(Dense(64, activation='relu', kernel_regularizer=l2(0.01)))\n",
        "model_GRU.add(Dropout(0.5))\n",
        "model_GRU.add(Dense(num_classes, activation='softmax'))\n",
        "model_GRU.compile(loss='categorical_crossentropy', optimizer=Adam(learning_rate=0.001), metrics=['accuracy'])\n",
        "\n",
        "# Melatih model dengan early stopping\n",
        "batch_size = 32\n",
        "history_GRU = model_GRU.fit(train_data_GRU, train_labels_GRU, epochs=10, batch_size=batch_size, verbose=2, validation_data=(X_val_GRU, y_val_GRU),callbacks=[early_stopping])"
      ]
    },
    {
      "cell_type": "code",
      "execution_count": 34,
      "metadata": {},
      "outputs": [
        {
          "name": "stdout",
          "output_type": "stream",
          "text": [
            "\u001b[1m1242/1242\u001b[0m \u001b[32m━━━━━━━━━━━━━━━━━━━━\u001b[0m\u001b[37m\u001b[0m \u001b[1m27s\u001b[0m 22ms/step\n",
            "\u001b[1m249/249\u001b[0m \u001b[32m━━━━━━━━━━━━━━━━━━━━\u001b[0m\u001b[37m\u001b[0m \u001b[1m6s\u001b[0m 23ms/step\n",
            "GRU - accuracy_train: 0.9393070129085831\n",
            "GRU - accuracy_test: 0.9294250849163417\n",
            "Classification Report:\n",
            "              precision    recall  f1-score   support\n",
            "\n",
            "           0       0.93      0.95      0.94      2588\n",
            "           1       0.98      0.90      0.94      2675\n",
            "           2       0.96      0.94      0.95      2686\n",
            "\n",
            "   micro avg       0.96      0.93      0.94      7949\n",
            "   macro avg       0.96      0.93      0.94      7949\n",
            "weighted avg       0.96      0.93      0.94      7949\n",
            " samples avg       0.93      0.93      0.93      7949\n",
            "\n"
          ]
        },
        {
          "name": "stderr",
          "output_type": "stream",
          "text": [
            "c:\\Users\\rizki\\AppData\\Local\\Programs\\Python\\Python312\\Lib\\site-packages\\sklearn\\metrics\\_classification.py:1531: UndefinedMetricWarning: Precision is ill-defined and being set to 0.0 in samples with no predicted labels. Use `zero_division` parameter to control this behavior.\n",
            "  _warn_prf(average, modifier, f\"{metric.capitalize()} is\", len(result))\n"
          ]
        }
      ],
      "source": [
        "# Prediksi sentimen pada data pelatihan dan data uji\n",
        "y_pred_train_GRU = model_GRU.predict(train_data_GRU)\n",
        "y_pred_test_GRU = model_GRU.predict(test_data_GRU)\n",
        "\n",
        "# Konversi prediksi ke label biner\n",
        "y_pred_train_GRU = (y_pred_train_GRU > 0.5).astype(int)\n",
        "y_pred_test_GRU = (y_pred_test_GRU > 0.5).astype(int)\n",
        "\n",
        "# Evaluasi akurasi model GRU\n",
        "accuracy_train_GRU = accuracy_score(train_labels_GRU, y_pred_train_GRU)\n",
        "accuracy_test_GRU = accuracy_score(test_labels_GRU, y_pred_test_GRU)\n",
        "\n",
        "# Menampilkan akurasi\n",
        "print('GRU - accuracy_train:', accuracy_train_GRU)\n",
        "print('GRU - accuracy_test:', accuracy_test_GRU)\n",
        "\n",
        "# Menampilkan classification report\n",
        "print('Classification Report:')\n",
        "print(classification_report(test_labels_GRU, y_pred_test_GRU))"
      ]
    },
    {
      "cell_type": "markdown",
      "metadata": {
        "id": "NNezavNXwFt_"
      },
      "source": [
        "**BOW + SVM Model**"
      ]
    },
    {
      "cell_type": "code",
      "execution_count": 24,
      "metadata": {
        "id": "USDmGBnPBlyp"
      },
      "outputs": [],
      "source": [
        "# Model SVM dengan BOW\n",
        "bow_svm_model = SVC(C=10,gamma=0.1)\n",
        "bow_svm_model.fit(train_data_bow, train_labels_bow)\n",
        "svm_pred = bow_svm_model.predict(test_data_bow)"
      ]
    },
    {
      "cell_type": "code",
      "execution_count": 25,
      "metadata": {
        "colab": {
          "base_uri": "https://localhost:8080/"
        },
        "id": "Op3EuTPTBlyp",
        "outputId": "d0763476-a9f0-446a-ed27-718d28fbcde3"
      },
      "outputs": [
        {
          "name": "stdout",
          "output_type": "stream",
          "text": [
            "SVM - accuracy_train: 0.9992954379607961\n",
            "SVM - accuracy_test: 0.9399924518807398\n",
            "              precision    recall  f1-score   support\n",
            "\n",
            "           0       0.89      0.97      0.93      2588\n",
            "           1       0.96      0.93      0.95      2675\n",
            "           2       0.97      0.92      0.94      2686\n",
            "\n",
            "    accuracy                           0.94      7949\n",
            "   macro avg       0.94      0.94      0.94      7949\n",
            "weighted avg       0.94      0.94      0.94      7949\n",
            "\n"
          ]
        }
      ],
      "source": [
        "# Prediksi sentimen pada data pelatihan dan data uji\n",
        "y_pred_train_svm = bow_svm_model.predict(train_data_bow)\n",
        "y_pred_test_svm = bow_svm_model.predict(test_data_bow)\n",
        "\n",
        "# Evaluasi akurasi model SVM\n",
        "accuracy_train_svm = accuracy_score(y_pred_train_svm, train_labels_bow)\n",
        "accuracy_test_svm = accuracy_score(y_pred_test_svm, test_labels_bow)\n",
        "\n",
        "# Menampilkan akurasi\n",
        "print('SVM - accuracy_train:', accuracy_train_svm)\n",
        "print('SVM - accuracy_test:', accuracy_test_svm)\n",
        "# Evaluasi model\n",
        "print(classification_report(test_labels_bow, y_pred_test_svm))"
      ]
    },
    {
      "cell_type": "markdown",
      "metadata": {
        "id": "tX6jU65kBlyp"
      },
      "source": [
        "**Random Forest Model + TF-IDF**"
      ]
    },
    {
      "cell_type": "code",
      "execution_count": 28,
      "metadata": {
        "id": "7Psfsd-Q_2v5"
      },
      "outputs": [],
      "source": [
        "# Model Random Forest dengan TF-IDF\n",
        "rf_model = RandomForestClassifier(n_estimators=100, random_state=42)\n",
        "rf_model.fit(train_data_tfidf, train_labels_tfidf)\n",
        "rf_pred = rf_model.predict(test_data_tfidf)"
      ]
    },
    {
      "cell_type": "code",
      "execution_count": 29,
      "metadata": {
        "colab": {
          "base_uri": "https://localhost:8080/"
        },
        "id": "apThH2Gj_2v5",
        "outputId": "a0bbac16-c978-4009-c140-5b08f9b608aa"
      },
      "outputs": [
        {
          "name": "stdout",
          "output_type": "stream",
          "text": [
            "Random Forest - accuracy_train: 0.9912684632998666\n",
            "Random Forest - accuracy_test: 0.8998553186135749\n",
            "              precision    recall  f1-score   support\n",
            "\n",
            "           0       0.85      0.91      0.88      5213\n",
            "           1       0.94      0.91      0.92      5422\n",
            "           2       0.91      0.88      0.90      5262\n",
            "\n",
            "    accuracy                           0.90     15897\n",
            "   macro avg       0.90      0.90      0.90     15897\n",
            "weighted avg       0.90      0.90      0.90     15897\n",
            "\n"
          ]
        }
      ],
      "source": [
        "# Prediksi pada data train dan test\n",
        "y_pred_train_rf = rf_model.predict(train_data_tfidf)\n",
        "y_pred_test_rf = rf_model.predict(test_data_tfidf)\n",
        "\n",
        "# Evaluasi akurasi model Random Forest\n",
        "accuracy_train_rf = accuracy_score(y_pred_train_rf, train_labels_tfidf)\n",
        "accuracy_test_rf = accuracy_score(y_pred_test_rf, test_labels_tfidf)\n",
        "\n",
        "# Menampilkan akurasi\n",
        "print('Random Forest - accuracy_train:', accuracy_train_rf)\n",
        "print('Random Forest - accuracy_test:', accuracy_test_rf)\n",
        "\n",
        "# Evaluasi model\n",
        "print(classification_report(test_labels_tfidf, y_pred_test_rf))"
      ]
    },
    {
      "cell_type": "markdown",
      "metadata": {
        "id": "UfEds1MkBlyq"
      },
      "source": [
        "## Inference"
      ]
    },
    {
      "cell_type": "code",
      "execution_count": 35,
      "metadata": {
        "id": "mh88iJvQBlyq"
      },
      "outputs": [],
      "source": [
        "\n",
        "# Input kalimat baru dari pengguna\n",
        "kalimat_baru = \"Menurut saya hal ini biasa saja.\"\n",
        "            # \"Aplikasi ini sangat bagus dan membantu!\"\n",
        "            # \"Saya kecewa dengan layanan yang diberikan.\"\n",
        "            # \"Menurut saya hal ini biasa saja.\"\n",
        "\n",
        "# Melakukan preprocessing pada kalimat baru\n",
        "kalimat_baru_cleaned = cleaningText(kalimat_baru)\n",
        "kalimat_baru_casefolded = casefoldingText(kalimat_baru_cleaned)\n",
        "kalimat_baru_slangfixed = fix_slangwords(kalimat_baru_casefolded)\n",
        "kalimat_baru_tokenized = tokenizingText(kalimat_baru_slangfixed)\n",
        "kalimat_baru_filtered = filteringText(kalimat_baru_tokenized)\n",
        "kalimat_baru_final = toSentence(kalimat_baru_filtered)\n"
      ]
    },
    {
      "cell_type": "code",
      "execution_count": 39,
      "metadata": {},
      "outputs": [],
      "source": [
        "# Melakukan inference menggunakan model GRU\n",
        "new_test_gru = tokenizer.texts_to_sequences([kalimat_baru_final])\n",
        "new_test_gru = pad_sequences(new_test_gru, maxlen=1000)\n"
      ]
    },
    {
      "cell_type": "code",
      "execution_count": 31,
      "metadata": {
        "id": "AsjMcOOaBlyq"
      },
      "outputs": [],
      "source": [
        "\n",
        "new_test_tfidf = tfidf_vectorizer.transform([kalimat_baru_final])"
      ]
    },
    {
      "cell_type": "code",
      "execution_count": 32,
      "metadata": {
        "id": "8_r50sN6Blyq"
      },
      "outputs": [],
      "source": [
        "new_test_bow = vectorizer.transform([kalimat_baru_final])"
      ]
    },
    {
      "cell_type": "code",
      "execution_count": 33,
      "metadata": {
        "colab": {
          "base_uri": "https://localhost:8080/"
        },
        "id": "-GlHLqSZBlyq",
        "outputId": "4435d8ef-a570-4c5f-b88d-955d4b36e18a"
      },
      "outputs": [
        {
          "name": "stdout",
          "output_type": "stream",
          "text": [
            "Sentimen kalimat baru adalah Neutral.\n"
          ]
        }
      ],
      "source": [
        "new_svm_pred = bow_svm_model.predict(new_test_bow)\n",
        "\n",
        "# Menampilkan hasil prediksi\n",
        "if new_svm_pred[0] == 0:\n",
        "    print(\"Sentimen kalimat baru adalah Positive.\")\n",
        "elif new_svm_pred[0] == 1:\n",
        "    print(\"Sentimen kalimat baru adalah Neutral.\")\n",
        "else:\n",
        "    print(\"Sentimen kalimat baru adalah Negative.\")"
      ]
    },
    {
      "cell_type": "code",
      "execution_count": 40,
      "metadata": {
        "colab": {
          "base_uri": "https://localhost:8080/"
        },
        "id": "FnNRgJ74Blyq",
        "outputId": "4c71be7f-f0b3-4f56-bd97-daeb67edecbc"
      },
      "outputs": [
        {
          "name": "stdout",
          "output_type": "stream",
          "text": [
            "\u001b[1m1/1\u001b[0m \u001b[32m━━━━━━━━━━━━━━━━━━━━\u001b[0m\u001b[37m\u001b[0m \u001b[1m0s\u001b[0m 167ms/step\n",
            "Sentimen kalimat baru adalah Neutral.\n"
          ]
        }
      ],
      "source": [
        "new_gru_pred = model_GRU.predict(new_test_gru)\n",
        "predicted_class = new_gru_pred.argmax(axis=-1)[0]\n",
        "\n",
        "# Menampilkan hasil prediksi\n",
        "if predicted_class == 0:\n",
        "    print(\"Sentimen kalimat baru adalah Negative.\")\n",
        "elif predicted_class == 1:\n",
        "    print(\"Sentimen kalimat baru adalah Neutral.\")\n",
        "else:\n",
        "    print(\"Sentimen kalimat baru adalah Positive.\")"
      ]
    },
    {
      "cell_type": "code",
      "execution_count": 35,
      "metadata": {
        "colab": {
          "base_uri": "https://localhost:8080/"
        },
        "id": "eL12mjyXBlyq",
        "outputId": "acb5eb9c-a610-45c2-8e31-348f49ea2db0"
      },
      "outputs": [
        {
          "name": "stdout",
          "output_type": "stream",
          "text": [
            "Sentimen kalimat baru adalah Neutral.\n"
          ]
        }
      ],
      "source": [
        "new_rf_pred = rf_model.predict(new_test_tfidf)\n",
        "\n",
        "# Menampilkan hasil prediksi\n",
        "if new_rf_pred[0] == 0:\n",
        "    print(\"Sentimen kalimat baru adalah Positive.\")\n",
        "elif new_rf_pred[0] == 1:\n",
        "    print(\"Sentimen kalimat baru adalah Neutral.\")\n",
        "else:\n",
        "    print(\"Sentimen kalimat baru adalah Negative.\")"
      ]
    }
  ],
  "metadata": {
    "accelerator": "GPU",
    "colab": {
      "gpuType": "T4",
      "provenance": []
    },
    "kernelspec": {
      "display_name": "Python 3",
      "language": "python",
      "name": "python3"
    },
    "language_info": {
      "codemirror_mode": {
        "name": "ipython",
        "version": 3
      },
      "file_extension": ".py",
      "mimetype": "text/x-python",
      "name": "python",
      "nbconvert_exporter": "python",
      "pygments_lexer": "ipython3",
      "version": "3.12.0"
    }
  },
  "nbformat": 4,
  "nbformat_minor": 0
}
